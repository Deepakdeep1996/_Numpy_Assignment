{
 "cells": [
  {
   "cell_type": "code",
   "execution_count": 1,
   "metadata": {},
   "outputs": [
    {
     "name": "stdout",
     "output_type": "stream",
     "text": [
      "[0. 0. 0. 0. 1. 0. 0. 0. 0. 0.]\n"
     ]
    }
   ],
   "source": [
    "# Create a null vector of size 10 but the fifth value which is 1.\n",
    "import numpy as np\n",
    "a=np.zeros(10)\n",
    "a[4]=1\n",
    "print(a)"
   ]
  },
  {
   "cell_type": "code",
   "execution_count": 2,
   "metadata": {},
   "outputs": [
    {
     "name": "stdout",
     "output_type": "stream",
     "text": [
      "[10 11 12 13 14 15 16 17 18 19 20 21 22 23 24 25 26 27 28 29 30 31 32 33\n",
      " 34 35 36 37 38 39 40 41 42 43 44 45 46 47 48 49]\n"
     ]
    }
   ],
   "source": [
    "# Create a vector with values ranging from 10 to 49.\n",
    "import numpy as np\n",
    "a=np.arange(10,50)\n",
    "print(a)"
   ]
  },
  {
   "cell_type": "code",
   "execution_count": 3,
   "metadata": {},
   "outputs": [
    {
     "name": "stdout",
     "output_type": "stream",
     "text": [
      "[[0 1 2]\n",
      " [3 4 5]\n",
      " [6 7 8]]\n"
     ]
    }
   ],
   "source": [
    "# Create a 3x3 matrix with values ranging from 0 to 8.as_integer_ratio\n",
    "import numpy as np\n",
    "a=np.arange(0,9).reshape(3,3)\n",
    "print(a)\n"
   ]
  },
  {
   "cell_type": "code",
   "execution_count": 4,
   "metadata": {},
   "outputs": [
    {
     "name": "stdout",
     "output_type": "stream",
     "text": [
      "(array([0, 1, 4], dtype=int64),)\n"
     ]
    }
   ],
   "source": [
    "# Find indices of non-zero elements from [1,2,0,0,4,0]\n",
    "import numpy as np\n",
    "a=np.nonzero([1,2,0,0,4,0])\n",
    "print(a)"
   ]
  },
  {
   "cell_type": "code",
   "execution_count": 7,
   "metadata": {},
   "outputs": [
    {
     "name": "stdout",
     "output_type": "stream",
     "text": [
      "0.0028131758444444044 0.9848313254520626\n"
     ]
    }
   ],
   "source": [
    "# Create a 10x10 array with random values and find the minimum and maximum values.\n",
    "import numpy as np\n",
    "Z=np.random.random((10,10))\n",
    "Zmin,Zmax=Z.min(),Z.max()\n",
    "print(Zmin,Zmax)"
   ]
  },
  {
   "cell_type": "code",
   "execution_count": 8,
   "metadata": {},
   "outputs": [
    {
     "name": "stdout",
     "output_type": "stream",
     "text": [
      "0.5855726531787229\n"
     ]
    }
   ],
   "source": [
    "# Create a random vector of size 30 and find the mean value.\n",
    "import numpy as np\n",
    "Z=np.random.random(30)\n",
    "M=Z.mean()\n",
    "print(M)\n"
   ]
  },
  {
   "cell_type": "code",
   "execution_count": null,
   "metadata": {},
   "outputs": [],
   "source": []
  }
 ],
 "metadata": {
  "kernelspec": {
   "display_name": "Python 3.8.0 64-bit",
   "language": "python",
   "name": "python3"
  },
  "language_info": {
   "codemirror_mode": {
    "name": "ipython",
    "version": 3
   },
   "file_extension": ".py",
   "mimetype": "text/x-python",
   "name": "python",
   "nbconvert_exporter": "python",
   "pygments_lexer": "ipython3",
   "version": "3.8.0"
  },
  "orig_nbformat": 4,
  "vscode": {
   "interpreter": {
    "hash": "555446c3263856e8f5cff830610bbf7b0b53ac13b676474c5ccef839f31386ed"
   }
  }
 },
 "nbformat": 4,
 "nbformat_minor": 2
}
